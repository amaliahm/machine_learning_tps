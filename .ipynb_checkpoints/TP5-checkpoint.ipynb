{
 "cells": [
  {
   "cell_type": "code",
   "execution_count": 1,
   "id": "63386b82-5f39-4b68-beae-a3a82e6207ab",
   "metadata": {},
   "outputs": [],
   "source": [
    "# Clustering and Dimentionnality Reduction"
   ]
  },
  {
   "cell_type": "markdown",
   "id": "a7076d67-6bf1-462f-b35f-e4185716f06f",
   "metadata": {},
   "source": [
    "<div class=\"alert alert-block alert-danger\">\n",
    "\n",
    "1. Import the CIFAR-10 dataset using the following code and create a new dataset containing only the following classes: \"airplane,\" \"automobile,\" \"bird,\" and \"cat.\"\n",
    "\n",
    "<div/>"
   ]
  },
  {
   "cell_type": "markdown",
   "id": "487d9629-93ea-4f6b-bbb7-f3e8ef14a3ee",
   "metadata": {},
   "source": [
    "<div class=\"alert alert-block alert-warning\">The CIFAR-10 dataset is composed of 60000 RGB images( 32x32 pixels), categorized into 10 classes with 6000 images per class. It is divided into 50000 training images and 10000 test images.\n",
    "<div/>"
   ]
  },
  {
   "cell_type": "code",
   "execution_count": 5,
   "id": "359a73e7-9b40-457c-b20f-62227ef1d7e0",
   "metadata": {},
   "outputs": [
    {
     "name": "stderr",
     "output_type": "stream",
     "text": [
      "2024-12-02 11:43:29.040869: I tensorflow/core/util/port.cc:153] oneDNN custom operations are on. You may see slightly different numerical results due to floating-point round-off errors from different computation orders. To turn them off, set the environment variable `TF_ENABLE_ONEDNN_OPTS=0`.\n",
      "2024-12-02 11:43:29.092182: I tensorflow/core/platform/cpu_feature_guard.cc:210] This TensorFlow binary is optimized to use available CPU instructions in performance-critical operations.\n",
      "To enable the following instructions: SSE4.1 SSE4.2 AVX AVX2 AVX512F AVX512_VNNI FMA, in other operations, rebuild TensorFlow with the appropriate compiler flags.\n"
     ]
    },
    {
     "name": "stdout",
     "output_type": "stream",
     "text": [
      "Downloading data from https://www.cs.toronto.edu/~kriz/cifar-10-python.tar.gz\n",
      "\u001b[1m170498071/170498071\u001b[0m \u001b[32m━━━━━━━━━━━━━━━━━━━━\u001b[0m\u001b[37m\u001b[0m \u001b[1m479s\u001b[0m 3us/step\n",
      "Train: X=(50000, 32, 32, 3), y=(50000, 1)\n"
     ]
    }
   ],
   "source": [
    "from matplotlib import pyplot\n",
    "from keras.datasets import cifar10\n",
    "import numpy as np\n",
    "# load dataset\n",
    "(trainX, trainy), _ = cifar10.load_data()\n",
    "label_names = [\"airplane\", \"automobile\", \"bird\", \"cat\", \"deer\", \"dog\", \"frog\", \"horse\", \"ship\", \"truck\"]\n",
    "# summarize loaded dataset\n",
    "print('Train: X=%s, y=%s' % (trainX.shape, trainy.shape))"
   ]
  },
  {
   "cell_type": "markdown",
   "id": "bc916f28-2f51-47f1-bd79-891b44c1d06c",
   "metadata": {},
   "source": [
    "<div class=\"alert alert-block alert-danger\">\n",
    "\n",
    "2. Visualize some samples from the dataset with their corresponding labels.\n",
    "\n",
    "<div/>"
   ]
  },
  {
   "cell_type": "markdown",
   "id": "bfdabba9-aa5e-42d4-9fa4-699923cbbac2",
   "metadata": {},
   "source": [
    "<div class=\"alert alert-block alert-danger\">\n",
    "\n",
    "3. Normalize the training data by dividing all values by 255.\n",
    "\n",
    "<div/>"
   ]
  },
  {
   "cell_type": "markdown",
   "id": "7fb167e0-5875-43a4-b4af-50c41d22c91f",
   "metadata": {},
   "source": [
    "<div class=\"alert alert-block alert-danger\">\n",
    "\n",
    "4. Visualize the data using a 2D plot by applying dimensionality reduction based on PCA with two components.\n",
    "\n",
    "<div/>"
   ]
  },
  {
   "cell_type": "markdown",
   "id": "44647364-4c62-4933-bcca-c72807863dfe",
   "metadata": {},
   "source": [
    "<div class=\"alert alert-block alert-danger\">\n",
    "\n",
    "5. Apply the K-means algorithm, K-means with PCA (with a variance of 95%), and K-means with LDA (3 components) on the normalized training data.\n",
    "\n",
    "<div/>"
   ]
  },
  {
   "cell_type": "markdown",
   "id": "b5b5b6cf-9717-4a2b-b5ee-f8dc8db77bb2",
   "metadata": {},
   "source": [
    "<div class=\"alert alert-block alert-danger\">\n",
    "\n",
    "6. Visualize the data after clustering using a 2D plot (use PCA with 2 components for dimensionality reduction) for each model. What do you observe?\n",
    "\n",
    "<div/>"
   ]
  },
  {
   "cell_type": "markdown",
   "id": "5db6838c-eff0-4da6-8397-15f4a052ce17",
   "metadata": {},
   "source": [
    "<div class=\"alert alert-block alert-danger\">\n",
    "\n",
    "\n",
    "2. Visualize some samples from the dataset with their corresponding labels.\n",
    "\n",
    "3. Normalize the training data by dividing all values by 255.\n",
    "\n",
    "4. Visualize the data using a 2D plot by applying dimensionality reduction based on PCA with two components.\n",
    "\n",
    "5. Apply the K-means algorithm, K-means with PCA (with a variance of 95%), and K-means with LDA (3 components) on the normalized training data.\n",
    "\n",
    "6. Visualize the data after clustering using a 2D plot (use PCA with 2 components for dimensionality reduction) for each model. What do you observe?\n",
    "\n",
    "7. Compute the Davies-Bouldin score for all generated models.\n",
    "\n",
    "8. Display the confusion matrix and the classification reports for all models. What do you observe?\n",
    "\n",
    "9. Display some misclassifications for the best model (image with the true label and predicted label).\n",
    "\n",
    "10. Try to enhance the performance of the best model.\n",
    "<div/>"
   ]
  },
  {
   "cell_type": "markdown",
   "id": "70ec3c64-a7c6-462e-95a4-43b6c29ebaf3",
   "metadata": {},
   "source": [
    "<div class=\"alert alert-block alert-danger\">\n",
    "\n",
    "\n",
    "2. Visualize some samples from the dataset with their corresponding labels.\n",
    "\n",
    "3. Normalize the training data by dividing all values by 255.\n",
    "\n",
    "4. Visualize the data using a 2D plot by applying dimensionality reduction based on PCA with two components.\n",
    "\n",
    "5. Apply the K-means algorithm, K-means with PCA (with a variance of 95%), and K-means with LDA (3 components) on the normalized training data.\n",
    "\n",
    "6. Visualize the data after clustering using a 2D plot (use PCA with 2 components for dimensionality reduction) for each model. What do you observe?\n",
    "\n",
    "7. Compute the Davies-Bouldin score for all generated models.\n",
    "\n",
    "8. Display the confusion matrix and the classification reports for all models. What do you observe?\n",
    "\n",
    "9. Display some misclassifications for the best model (image with the true label and predicted label).\n",
    "\n",
    "10. Try to enhance the performance of the best model.\n",
    "<div/>"
   ]
  },
  {
   "cell_type": "markdown",
   "id": "3447762d-29ad-4ef0-9e0c-b6a7f9fa2c21",
   "metadata": {},
   "source": [
    "<div class=\"alert alert-block alert-danger\">\n",
    "\n",
    "\n",
    "2. Visualize some samples from the dataset with their corresponding labels.\n",
    "\n",
    "3. Normalize the training data by dividing all values by 255.\n",
    "\n",
    "4. Visualize the data using a 2D plot by applying dimensionality reduction based on PCA with two components.\n",
    "\n",
    "5. Apply the K-means algorithm, K-means with PCA (with a variance of 95%), and K-means with LDA (3 components) on the normalized training data.\n",
    "\n",
    "6. Visualize the data after clustering using a 2D plot (use PCA with 2 components for dimensionality reduction) for each model. What do you observe?\n",
    "\n",
    "7. Compute the Davies-Bouldin score for all generated models.\n",
    "\n",
    "8. Display the confusion matrix and the classification reports for all models. What do you observe?\n",
    "\n",
    "9. Display some misclassifications for the best model (image with the true label and predicted label).\n",
    "\n",
    "10. Try to enhance the performance of the best model.\n",
    "<div/>"
   ]
  },
  {
   "cell_type": "markdown",
   "id": "9d5d28c7-502b-427d-b9b6-05a0f484bd1f",
   "metadata": {},
   "source": [
    "<div class=\"alert alert-block alert-danger\">\n",
    "\n",
    "\n",
    "2. Visualize some samples from the dataset with their corresponding labels.\n",
    "\n",
    "3. Normalize the training data by dividing all values by 255.\n",
    "\n",
    "4. Visualize the data using a 2D plot by applying dimensionality reduction based on PCA with two components.\n",
    "\n",
    "5. Apply the K-means algorithm, K-means with PCA (with a variance of 95%), and K-means with LDA (3 components) on the normalized training data.\n",
    "\n",
    "6. Visualize the data after clustering using a 2D plot (use PCA with 2 components for dimensionality reduction) for each model. What do you observe?\n",
    "\n",
    "7. Compute the Davies-Bouldin score for all generated models.\n",
    "\n",
    "8. Display the confusion matrix and the classification reports for all models. What do you observe?\n",
    "\n",
    "9. Display some misclassifications for the best model (image with the true label and predicted label).\n",
    "\n",
    "10. Try to enhance the performance of the best model.\n",
    "<div/>"
   ]
  },
  {
   "cell_type": "markdown",
   "id": "855b3a98-4cd7-4233-8cc4-19d018866e64",
   "metadata": {},
   "source": [
    "<div class=\"alert alert-block alert-danger\">\n",
    "\n",
    "\n",
    "2. Visualize some samples from the dataset with their corresponding labels.\n",
    "\n",
    "3. Normalize the training data by dividing all values by 255.\n",
    "\n",
    "4. Visualize the data using a 2D plot by applying dimensionality reduction based on PCA with two components.\n",
    "\n",
    "5. Apply the K-means algorithm, K-means with PCA (with a variance of 95%), and K-means with LDA (3 components) on the normalized training data.\n",
    "\n",
    "6. Visualize the data after clustering using a 2D plot (use PCA with 2 components for dimensionality reduction) for each model. What do you observe?\n",
    "\n",
    "7. Compute the Davies-Bouldin score for all generated models.\n",
    "\n",
    "8. Display the confusion matrix and the classification reports for all models. What do you observe?\n",
    "\n",
    "9. Display some misclassifications for the best model (image with the true label and predicted label).\n",
    "\n",
    "10. Try to enhance the performance of the best model.\n",
    "<div/>"
   ]
  },
  {
   "cell_type": "code",
   "execution_count": null,
   "id": "e863b885-4217-4d69-a0f6-b66e95369641",
   "metadata": {},
   "outputs": [],
   "source": []
  }
 ],
 "metadata": {
  "kernelspec": {
   "display_name": "Python 3 (ipykernel)",
   "language": "python",
   "name": "python3"
  },
  "language_info": {
   "codemirror_mode": {
    "name": "ipython",
    "version": 3
   },
   "file_extension": ".py",
   "mimetype": "text/x-python",
   "name": "python",
   "nbconvert_exporter": "python",
   "pygments_lexer": "ipython3",
   "version": "3.12.4"
  }
 },
 "nbformat": 4,
 "nbformat_minor": 5
}
