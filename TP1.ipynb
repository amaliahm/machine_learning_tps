{
 "cells": [
  {
   "cell_type": "code",
   "execution_count": null,
   "id": "41724622-4f62-4e99-9f49-2ac7305ead2d",
   "metadata": {},
   "outputs": [],
   "source": [
    "import numpy as np\n",
    "import matplotlib.pyplot as plt\n",
    "\n",
    "# Create an array containing numbers from 1 to 9\n",
    "arr = np.arange(1, 10)\n",
    "\n",
    "# Reshape this 1D array into a 2D array (3x3)\n",
    "arr_2d = arr.reshape(3, 3)\n",
    "\n",
    "# Display the dimensions of the reshaped array\n",
    "print(\"Array dimensions:\", arr_2d.shape)\n",
    "\n",
    "# Display the first row and the first column of the reshaped array\n",
    "print(\"First row:\", arr_2d[0])\n",
    "print(\"First column:\", arr_2d[:, 0])\n",
    "\n",
    "# Perform a matrix product between two 2D arrays\n",
    "matrix_product = np.dot(arr_2d, arr_2d)\n",
    "print(\"Matrix product:\\n\", matrix_product)\n",
    "\n",
    "\n",
    "# Lists of abscissas and ordinates\n",
    "X = [-1, 0, 1, 2]\n",
    "Y = [3, 2, 4, 1]\n",
    "\n",
    "# Create a plot\n",
    "plt.plot(X, Y, 'r.')  # Red dots\n",
    "\n",
    "# Add grid, axis limits, labels, and title\n",
    "plt.grid()\n",
    "plt.axis([-2, 3, 0, 5])  # Axis limits: x from -2 to 3, y from 0 to 5\n",
    "plt.xlabel(\"mes abscisses\")  # x-axis label\n",
    "plt.ylabel(\"mes ordonnées\")  # y-axis label\n",
    "plt.title(\"courbe d’équation $y =f(x)$\")  # Title with LaTeX-like formatting\n",
    "\n",
    "# Show the graph\n",
    "plt.show()"
   ]
  },
  {
   "cell_type": "code",
   "execution_count": null,
   "id": "21f199b5-d8d5-4097-9336-d4721031f51f",
   "metadata": {},
   "outputs": [],
   "source": []
  }
 ],
 "metadata": {
  "kernelspec": {
   "display_name": "Python 3 (ipykernel)",
   "language": "python",
   "name": "python3"
  },
  "language_info": {
   "codemirror_mode": {
    "name": "ipython",
    "version": 3
   },
   "file_extension": ".py",
   "mimetype": "text/x-python",
   "name": "python",
   "nbconvert_exporter": "python",
   "pygments_lexer": "ipython3",
   "version": "3.12.4"
  }
 },
 "nbformat": 4,
 "nbformat_minor": 5
}
